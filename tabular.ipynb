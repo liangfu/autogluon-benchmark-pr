{
 "cells": [
  {
   "cell_type": "markdown",
   "id": "a6256d6b",
   "metadata": {},
   "source": [
    "[![Open In Colab](https://colab.research.google.com/assets/colab-badge.svg)](https://colab.research.google.com/github/liangfu/autogluon-benchmark-pr/blob/main/tabular.ipynb)\n",
    "[![Open In SageMaker Studio Lab](https://studiolab.sagemaker.aws/studiolab.svg)](https://studiolab.sagemaker.aws/import/github/liangfu/autogluon-benchmark-pr/blob/main/tabular.ipynb)\n"
   ]
  },
  {
   "cell_type": "code",
   "execution_count": null,
   "id": "15f953d4-2e00-4b0c-acd0-75be47e976d3",
   "metadata": {},
   "outputs": [],
   "source": [
    "dev_user = \"liangfu\"\n",
    "dev_branch = \"dev\""
   ]
  },
  {
   "cell_type": "code",
   "execution_count": null,
   "id": "a19bd2e9-d89c-46dd-81f5-cdd3a3620fd8",
   "metadata": {},
   "outputs": [],
   "source": [
    "# Clean up everything\n",
    "!rm -rf autogluon_py39 autogluon_py39dev venv_py39 venv_py39dev log.txt"
   ]
  },
  {
   "cell_type": "code",
   "execution_count": null,
   "id": "f24c9386-16e2-4f23-a414-6629c347b3a0",
   "metadata": {},
   "outputs": [],
   "source": [
    "# Generate baseline results from upstream repo\n",
    "!git clone https://github.com/autogluon/autogluon.git autogluon_py39\n",
    "!git clone --branch {dev_branch} https://github.com/{dev_user}/autogluon.git autogluon_py39dev"
   ]
  },
  {
   "cell_type": "code",
   "execution_count": null,
   "id": "67449d3b-4780-4895-a335-cb632ae72d61",
   "metadata": {},
   "outputs": [],
   "source": [
    "# Create venv for upstream\n",
    "%conda create -y -q -n venv_py39 python=3.9\n",
    "%conda create -y -q -n venv_py39dev python=3.9"
   ]
  },
  {
   "cell_type": "code",
   "execution_count": null,
   "id": "1fd18a5c-2f18-4e6d-835b-f3b796d6b31f",
   "metadata": {},
   "outputs": [],
   "source": [
    "%%bash\n",
    "source ~/miniconda3/etc/profile.d/conda.sh\n",
    "\n",
    "conda activate ./venv_py39\n",
    "cd autogluon_py39 && bash full_install.sh && cd ..\n",
    "conda deactivate"
   ]
  },
  {
   "cell_type": "code",
   "execution_count": null,
   "id": "28d11615-dec2-4df0-aabe-3759a6cd0702",
   "metadata": {},
   "outputs": [],
   "source": [
    "%%bash\n",
    "source ~/miniconda3/etc/profile.d/conda.sh\n",
    "\n",
    "conda activate ./venv_py39dev\n",
    "cd autogluon_py39dev && bash full_install.sh && cd ..\n",
    "conda deactivate"
   ]
  },
  {
   "cell_type": "code",
   "execution_count": null,
   "id": "68fb656f-ace1-4aa1-9e3a-012fe8b1221d",
   "metadata": {},
   "outputs": [],
   "source": []
  }
 ],
 "metadata": {
  "kernelspec": {
   "display_name": "Python 3 (ipykernel)",
   "language": "python",
   "name": "python3"
  },
  "language_info": {
   "codemirror_mode": {
    "name": "ipython",
    "version": 3
   },
   "file_extension": ".py",
   "mimetype": "text/x-python",
   "name": "python",
   "nbconvert_exporter": "python",
   "pygments_lexer": "ipython3",
   "version": "3.9.12"
  }
 },
 "nbformat": 4,
 "nbformat_minor": 5
}
